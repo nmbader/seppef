{
 "cells": [
  {
   "cell_type": "code",
   "execution_count": null,
   "metadata": {},
   "outputs": [],
   "source": [
    "%autosave 0 "
   ]
  },
  {
   "cell_type": "markdown",
   "metadata": {},
   "source": [
    "# Vertical Sesimic Profiling inversion"
   ]
  },
  {
   "cell_type": "markdown",
   "metadata": {},
   "source": [
    "We are going to focus our attention to a common approach when dealing with geophysical inverse problems, regularization and prior information. In this example we will invert synthetic data from a vertical seismic profiling survey. To do so, we will discretize the following equation:\n",
    "\\begin{align}\n",
    "t(z) =  \\int_{0}^{z} \\frac{1}{v(z')}dz',\n",
    "\\end{align}\n",
    "where $t(z)$ is the traveltime from the surface to the depth $z$ and $v(z')$ represents the propagation speed of the medium. To make the problem linear we will parameterize the problem using slowness instead of speed. The discrete version for a regular $z$ sampling of it can be written as follows:\n",
    "\\begin{align}\n",
    "t_i =  \\sum_{j=0}^{N_i} s_j \\Delta z,\n",
    "\\end{align}\n",
    "where $\\Delta z$ represents the sampling interval in the $z$ direction, while $t_i$ and $s_j$ are the traveltime and slowness at $z_i=N_i \\Delta z$ depth, respectively.\n",
    "In this example we will assume that the true subsurface vertical speed is given by the following equation:\n",
    "\\begin{align}\n",
    "v(z)=3000 + \\sqrt{1000 z},\n",
    "\\end{align}\n",
    "expressed in km/s."
   ]
  },
  {
   "cell_type": "code",
   "execution_count": null,
   "metadata": {},
   "outputs": [],
   "source": [
    "#Adding library modules to PYTHONPATH\n",
    "import sys\n",
    "sys.path.append(\"../python\")\n",
    "import numpy as np\n",
    "#Plotting library\n",
    "from matplotlib import pyplot as plt\n",
    "import matplotlib\n",
    "from mpl_toolkits.axes_grid1 import make_axes_locatable\n",
    "%matplotlib inline\n",
    "params = {\n",
    "    'image.cmap': 'gray',\n",
    "    'axes.grid': False,\n",
    "    'savefig.dpi': 300,  # to adjust notebook inline plot size\n",
    "    'axes.labelsize': 14, # fontsize for x and y labels (was 10)\n",
    "    'axes.titlesize': 14,\n",
    "    'font.size': 14, \n",
    "    'legend.fontsize': 12,\n",
    "    'xtick.labelsize': 14,\n",
    "    'ytick.labelsize': 14\n",
    "}\n",
    "matplotlib.rcParams.update(params)\n",
    "#Inversion library-related modules\n",
    "import pyVector as Vec\n",
    "import pyOperator as Op\n",
    "from pyLinearSolver import LCGsolver as LCG\n",
    "import pyProblem as Prblm\n",
    "from pyStopper import BasicStopper as Stopper"
   ]
  },
  {
   "cell_type": "code",
   "execution_count": null,
   "metadata": {},
   "outputs": [],
   "source": [
    "#Definition of the modeling operator forward and its adjoint\n",
    "class VSP_op(Op.Operator):\n",
    "    \"\"\"\n",
    "       Vertical Sesimic Profiling operator      \n",
    "    \"\"\"\n",
    "    \n",
    "    def __init__(self,model,data,dz,desampling):\n",
    "        \"\"\"Operator constructor\"\"\"\n",
    "        self.setDomainRange(model,data)\n",
    "        self.dz = dz                           #Sampling in depth\n",
    "        self.desampling = int(desampling)      #Desampling of the data points (should be 1 or greater)\n",
    "        self.M = model.getNdArray().shape[0]   #Number of model points\n",
    "        self.N = data.getNdArray().shape[0]    #Number of data points\n",
    "        if((self.M-2) < (self.N-2)*self.desampling): \n",
    "            raise ValueError(\"ERROR! Too many data points! Change desampling or number of data points\")\n",
    "        return\n",
    "    \n",
    "    def forward(self,add,model,data):\n",
    "        \"\"\"\n",
    "           Modeling operator from slowness to traveltime\n",
    "           add     = [no default] - boolean; Flag to add modeled data to input vector\n",
    "           model   = [no default] - vector class; slowness model vector\n",
    "           data    = [no default] - vector class; traveltime data vector\n",
    "        \"\"\"\n",
    "        self.checkDomainRange(model,data)\n",
    "        if(not add): data.zero()     #data = 0\n",
    "        modelNd = model.getNdArray() #Getting pointer to Numpy model array\n",
    "        dataNd = data.getNdArray()   #Getting pointer to Numpy data array\n",
    "        #First data point\n",
    "        dataNd[0] += modelNd[0]*dz\n",
    "        for idata in range(1,self.N-1):\n",
    "            dataNd[idata] += np.sum(modelNd[:(idata)*self.desampling+1])*dz\n",
    "        #Last data point\n",
    "        dataNd[-1] += np.sum(modelNd[:])*dz\n",
    "        return\n",
    "    \n",
    "    def adjoint(self,add,model,data):\n",
    "        \"\"\"\n",
    "           Adjoint operator from traveltime to slowness\n",
    "           add     = [no default] - boolean; Flag to add modeled data to input vector\n",
    "           model   = [no default] - vector class; slowness model vector\n",
    "           data    = [no default] - vector class; traveltime data vector\n",
    "        \"\"\"\n",
    "        self.checkDomainRange(model,data)\n",
    "        if(not add): model.zero()    #model = 0\n",
    "        modelNd = model.getNdArray() #Getting pointer to Numpy model array\n",
    "        dataNd = data.getNdArray()   #Getting pointer to Numpy data array\n",
    "        #First data point\n",
    "        modelNd[0] += dataNd[0]*dz\n",
    "        for idata in range(1,self.N-1):\n",
    "            modelNd[:(idata)*self.desampling+1] += dataNd[idata]*dz\n",
    "        #Last data point\n",
    "        modelNd[:] += dataNd[-1]*dz\n",
    "        return"
   ]
  },
  {
   "cell_type": "code",
   "execution_count": null,
   "metadata": {},
   "outputs": [],
   "source": [
    "dz = 2.\n",
    "zmax = 1000.0\n",
    "z = np.linspace(0.0,zmax,int(zmax/dz)+1)\n",
    "vel = 3000.0 + np.sqrt(1000.0*z)\n",
    "slowness = 1.0/vel\n",
    "model_true = Vec.vectorIC(slowness)\n",
    "#Desampling of receivers\n",
    "desampling = 10 #20 m sampling\n",
    "ndata = int(zmax/(dz*desampling))+1\n",
    "data_true = Vec.vectorIC((ndata,))\n",
    "VSP_10 = VSP_op(model_true,data_true,dz,desampling)"
   ]
  },
  {
   "cell_type": "code",
   "execution_count": null,
   "metadata": {},
   "outputs": [],
   "source": [
    "#Generating observed data\n",
    "VSP_10.forward(False,model_true,data_true)"
   ]
  },
  {
   "cell_type": "code",
   "execution_count": null,
   "metadata": {},
   "outputs": [],
   "source": [
    "VSP_10.dotTest(True)"
   ]
  },
  {
   "cell_type": "code",
   "execution_count": null,
   "metadata": {},
   "outputs": [],
   "source": [
    "fig,ax=plt.subplots()\n",
    "plt.plot(z[::desampling],data_true.getNdArray(),'*')\n",
    "plt.xlabel(\"depth [m]\")\n",
    "plt.ylabel(\"time [s]\")\n",
    "_=plt.title(\"Observed traveltime\")"
   ]
  },
  {
   "cell_type": "code",
   "execution_count": null,
   "metadata": {},
   "outputs": [],
   "source": [
    "#Create stopping criteria and related object\n",
    "niter = 2000\n",
    "Stop  = Stopper(niter=niter)\n",
    "#Create LCG solver\n",
    "LCGsolver = LCG(Stop)\n",
    "LCGsolver.setDefaults(save_obj=True) #Saving objective function within the solver"
   ]
  },
  {
   "cell_type": "code",
   "execution_count": null,
   "metadata": {},
   "outputs": [],
   "source": [
    "#Inital slowness model\n",
    "model = model_true.clone()\n",
    "model.zero() #m = 0\n",
    "VSP_prob = Prblm.ProblemL2Linear(model,data_true,VSP_10)"
   ]
  },
  {
   "cell_type": "code",
   "execution_count": null,
   "metadata": {},
   "outputs": [],
   "source": [
    "LCGsolver.run(VSP_prob,verbose=True)"
   ]
  },
  {
   "cell_type": "code",
   "execution_count": null,
   "metadata": {},
   "outputs": [],
   "source": [
    "fig,ax=plt.subplots()\n",
    "plt.plot(z,1.e-3/VSP_prob.model.getNdArray(),label='inverted model',linewidth=3)\n",
    "plt.plot(z,1.e-3*vel,label='true model',linewidth=2,linestyle='-.')\n",
    "plt.xlabel(\"depth [m]\")\n",
    "plt.ylabel(\"vel [km/s]\")\n",
    "ax.legend()\n",
    "plt.ylim(3,4)\n",
    "plt.xlim(0,1000)\n",
    "_=plt.title(\"$L_2$ inversion\")"
   ]
  },
  {
   "cell_type": "markdown",
   "metadata": {},
   "source": [
    "By looking at the objective function value, we clearly see that we can perfectly match the observed traveltime values. In fact, the problem is underdetermined (i.e., we have more model parameters than observations). Because of this fact, we can only retrieve the average velocity between observation depths. Moreover, we will encounter issues when random noise is present in the recorded data."
   ]
  },
  {
   "cell_type": "code",
   "execution_count": null,
   "metadata": {},
   "outputs": [],
   "source": [
    "#Let's add some noise to the recorded data\n",
    "noisy_data = data_true.clone()\n",
    "noisy_data_arr = noisy_data.getNdArray()\n",
    "noisy_data_arr += np.random.normal(scale=np.mean(noisy_data_arr)*0.005, size=noisy_data_arr.shape)"
   ]
  },
  {
   "cell_type": "code",
   "execution_count": null,
   "metadata": {},
   "outputs": [],
   "source": [
    "fig,ax=plt.subplots()\n",
    "plt.plot(z[::desampling],noisy_data_arr,'*')\n",
    "plt.xlabel(\"depth [m]\")\n",
    "plt.ylabel(\"time [s]\")\n",
    "_=plt.title(\"Observed noisy traveltime\")"
   ]
  },
  {
   "cell_type": "code",
   "execution_count": null,
   "metadata": {
    "scrolled": true
   },
   "outputs": [],
   "source": [
    "VSP_prob_noise = Prblm.ProblemL2Linear(model,noisy_data,VSP_10)\n",
    "LCGsolver.run(VSP_prob_noise,verbose=True)"
   ]
  },
  {
   "cell_type": "code",
   "execution_count": null,
   "metadata": {},
   "outputs": [],
   "source": [
    "fig,ax=plt.subplots()\n",
    "plt.plot(z,1.e-3*vel,label='true model')\n",
    "plt.plot(z,1.e-3/VSP_prob_noise.model.getNdArray(),label='inverted model')\n",
    "plt.xlabel(\"depth [m]\")\n",
    "plt.ylabel(\"vel [km/s]\")\n",
    "ax.legend()\n",
    "plt.ylim(3,4)\n",
    "plt.xlim(0,1000)\n",
    "_=plt.title(\"$L_2$ inversion (noisy data)\")"
   ]
  },
  {
   "cell_type": "markdown",
   "metadata": {},
   "source": [
    "A simple method to avoid these issues is to add prior knowledge to the inversion. In fact, we can change to problem to be solved and add a regularization term. We will test two kind of regularization: one in which a smooth constraint is added and another one where a prior model is assumed and employed in the regularization term.\n",
    "\n",
    "In the first case, the objective function to be minimized is the following:\n",
    "\\begin{align}\n",
    "\\phi_{smooth}(\\mathbf{m})=\\frac{1}{2}\\|G \\mathbf{m} - \\mathbf{d}_{obs} \\|_2^2 + \\frac{\\epsilon^2}{2} \\|D_1 \\mathbf{m}\\|_2^2,\n",
    "\\end{align}\n",
    "where $\\mathbf{m}$ represents the slowness model, $\\mathbf{d}_{obs}$ is the observed traveltimes, while $G$ and $D_1$ are the modeling and a first-order derivative operators, respectively. The variable $\\epsilon$ is the trade-off weight and is going to be set on the basis of trial and error."
   ]
  },
  {
   "cell_type": "code",
   "execution_count": null,
   "metadata": {},
   "outputs": [],
   "source": [
    "#Defining first-order derivative operator\n",
    "class FirstDerivative(Op.Operator):\n",
    "    def __init__(self, model, sampling=1.):\n",
    "        \"\"\"\n",
    "        Compute 2nd-order first derivative\n",
    "        :param model    : vector class; domain vector\n",
    "        :param sampling : scalar; sampling step [1.]\n",
    "        \"\"\"\n",
    "        self.sampling = sampling\n",
    "        super(FirstDerivative, self).__init__(model, model)\n",
    "\n",
    "    def forward(self, add, model, data):\n",
    "        \"\"\"Forward operator\"\"\"\n",
    "        self.checkDomainRange(model, data)\n",
    "        if not add:\n",
    "            data.zero()\n",
    "        # Getting Ndarrays\n",
    "        x = model.getNdArray()\n",
    "        y = data.getNdArray()\n",
    "        #Computing the derivative\n",
    "        y[:-1] += (x[1:] - x[:-1]) / self.sampling\n",
    "        y[-1] += (x[-1] - x[-2]) / self.sampling #Boundary condition\n",
    "        return\n",
    "\n",
    "    def adjoint(self, add, model, data):\n",
    "        \"\"\"Adjoint operator\"\"\"\n",
    "        self.checkDomainRange(model, data)\n",
    "        if not add:\n",
    "            model.zero()\n",
    "        # Getting Ndarrays\n",
    "        x = model.getNdArray()\n",
    "        y = data.getNdArray()\n",
    "        x[0] -= y[0] / self.sampling #Boundary condition\n",
    "        x[1:-1] += (y[:-2] - y[1:-1]) / self.sampling\n",
    "        x[-2] -= y[-1] / self.sampling\n",
    "        x[-1] += (y[-2] + y[-1]) / self.sampling\n",
    "        return"
   ]
  },
  {
   "cell_type": "code",
   "execution_count": null,
   "metadata": {},
   "outputs": [],
   "source": [
    "#Instantiating regularization operator\n",
    "D1 = FirstDerivative(model_true,dz)\n",
    "#Instantiating regularized problem with noise-free data\n",
    "VSP_prob_regD1 = Prblm.ProblemL2LinearReg(model,data_true,VSP_10,epsilon=1.0,reg_op=D1)\n",
    "#Estimating a value for the regularization weight epsilon\n",
    "epsilon_balance = VSP_prob_regD1.estimate_epsilon(True)\n",
    "VSP_prob_regD1.epsilon = epsilon_balance * 1e-4"
   ]
  },
  {
   "cell_type": "code",
   "execution_count": null,
   "metadata": {
    "scrolled": true
   },
   "outputs": [],
   "source": [
    "LCGsolver.run(VSP_prob_regD1,verbose=True)"
   ]
  },
  {
   "cell_type": "code",
   "execution_count": null,
   "metadata": {},
   "outputs": [],
   "source": [
    "fig,ax=plt.subplots()\n",
    "plt.plot(z,1.e-3*vel,label='true model')\n",
    "plt.plot(z,1.e-3/VSP_prob_regD1.model.getNdArray(),label='inverted model')\n",
    "plt.xlabel(\"depth [m]\")\n",
    "plt.ylabel(\"vel [km/s]\")\n",
    "ax.legend()\n",
    "plt.ylim(3,4)\n",
    "plt.xlim(0,1000)\n",
    "_=plt.title(\"Regularized inversion (noise-free)\")"
   ]
  },
  {
   "cell_type": "code",
   "execution_count": null,
   "metadata": {},
   "outputs": [],
   "source": [
    "#Instantiating regularized problem with noisy data\n",
    "VSP_prob_regD1 = Prblm.ProblemL2LinearReg(model,noisy_data,VSP_10,epsilon=1.0,reg_op=D1)\n",
    "#Estimating a value for the regularization weight epsilon\n",
    "epsilon_balance = VSP_prob_regD1.estimate_epsilon(True)\n",
    "VSP_prob_regD1.epsilon = epsilon_balance * 5e-2"
   ]
  },
  {
   "cell_type": "code",
   "execution_count": null,
   "metadata": {},
   "outputs": [],
   "source": [
    "LCGsolver.run(VSP_prob_regD1,verbose=True)"
   ]
  },
  {
   "cell_type": "code",
   "execution_count": null,
   "metadata": {},
   "outputs": [],
   "source": [
    "fig,ax=plt.subplots()\n",
    "plt.plot(z,1.e-3*vel,label='true model')\n",
    "plt.plot(z,1.e-3/VSP_prob_regD1.model.getNdArray(),label='inverted model')\n",
    "plt.xlabel(\"depth [m]\")\n",
    "plt.ylabel(\"vel [km/s]\")\n",
    "ax.legend()\n",
    "plt.ylim(3,4)\n",
    "plt.xlim(0,1000)\n",
    "_=plt.title(\"Regularized inversion (noisy data)\")"
   ]
  },
  {
   "cell_type": "markdown",
   "metadata": {},
   "source": [
    "In the second case (i.e., when a prior model is employed), the objective function to be minimized is written as follows:\n",
    "\\begin{align}\n",
    "\\phi_{smooth}(\\mathbf{m})=\\frac{1}{2}\\|G \\mathbf{m} - \\mathbf{d}_{obs} \\|_2^2 + \\frac{\\epsilon^2}{2} \\|\\mathbf{m} - \\mathbf{m}_{prior}\\|_2^2,\n",
    "\\end{align}\n",
    "where $\\mathbf{m}_{prior}$ is the prior model vector expressed as the following velocity profile:\n",
    "\\begin{align}\n",
    "v_{prior}(z)  = 3100.+ 1.0 z\n",
    "\\end{align}"
   ]
  },
  {
   "cell_type": "code",
   "execution_count": null,
   "metadata": {},
   "outputs": [],
   "source": [
    "vel_prior = 3100.0 + z\n",
    "model_prior = Vec.vectorIC(1.0/vel_prior)"
   ]
  },
  {
   "cell_type": "code",
   "execution_count": null,
   "metadata": {},
   "outputs": [],
   "source": [
    "#Instantiating regularized problem with prior model and noisy data\n",
    "VSP_prob_prior = Prblm.ProblemL2LinearReg(model,noisy_data,VSP_10,epsilon=1.0,prior_model=model_prior)\n",
    "#Estimating a value for the regularization weight epsilon\n",
    "epsilon_balance = VSP_prob_prior.estimate_epsilon(True)\n",
    "VSP_prob_prior.epsilon = epsilon_balance * 2.5e-1"
   ]
  },
  {
   "cell_type": "code",
   "execution_count": null,
   "metadata": {},
   "outputs": [],
   "source": [
    "LCGsolver.run(VSP_prob_prior,verbose=True)"
   ]
  },
  {
   "cell_type": "code",
   "execution_count": null,
   "metadata": {},
   "outputs": [],
   "source": [
    "fig,ax=plt.subplots()\n",
    "plt.plot(z,1.e-3*vel,label='true model')\n",
    "plt.plot(z,1.e-3*vel_prior,label='prior model')\n",
    "plt.plot(z,1.e-3/VSP_prob_prior.model.getNdArray(),label='inverted model')\n",
    "plt.xlabel(\"depth [m]\")\n",
    "plt.ylabel(\"vel [km/s]\")\n",
    "ax.legend()\n",
    "plt.ylim(3,4)\n",
    "plt.xlim(0,1000)\n",
    "_=plt.title(\"Regularized inversion with prior model (noisy data)\")"
   ]
  }
 ],
 "metadata": {
  "kernelspec": {
   "display_name": "Python 3",
   "language": "python",
   "name": "python3"
  },
  "language_info": {
   "codemirror_mode": {
    "name": "ipython",
    "version": 3
   },
   "file_extension": ".py",
   "mimetype": "text/x-python",
   "name": "python",
   "nbconvert_exporter": "python",
   "pygments_lexer": "ipython3",
   "version": "3.6.5"
  }
 },
 "nbformat": 4,
 "nbformat_minor": 2
}
