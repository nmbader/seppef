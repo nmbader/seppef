{
 "cells": [
  {
   "cell_type": "code",
   "execution_count": null,
   "metadata": {},
   "outputs": [],
   "source": [
    "autosave 0"
   ]
  },
  {
   "cell_type": "markdown",
   "metadata": {},
   "source": [
    "# Linear inversion examples"
   ]
  },
  {
   "cell_type": "markdown",
   "metadata": {},
   "source": [
    "## Preliminary steps"
   ]
  },
  {
   "cell_type": "markdown",
   "metadata": {},
   "source": [
    "### Importing necessary libraries"
   ]
  },
  {
   "cell_type": "code",
   "execution_count": null,
   "metadata": {},
   "outputs": [],
   "source": [
    "#Adding library modules to PYTHONPATH\n",
    "import sys\n",
    "sys.path.append(\"../python\")\n",
    "import numpy as np\n",
    "#Inversion library-related modules\n",
    "import pyVector as Vec\n",
    "import pyOperator as Op\n",
    "from pyLinearSolver import LCGsolver as LCG\n",
    "from pyLinearSolver import SymLCGsolver\n",
    "import pyProblem as Prblm\n",
    "from pyStopper import BasicStopper as Stopper\n",
    "#Plotting library\n",
    "import matplotlib\n",
    "import matplotlib.pyplot as plt\n",
    "from mpl_toolkits.axes_grid1 import make_axes_locatable\n",
    "%matplotlib inline\n",
    "params = {\n",
    "    'image.interpolation': 'nearest',\n",
    "    'image.cmap': 'gray',\n",
    "    'savefig.dpi': 300,  # to adjust notebook inline plot size\n",
    "    'axes.labelsize': 12, # fontsize for x and y labels (was 10)\n",
    "    'axes.titlesize': 12,\n",
    "    'font.size': 12, # was 10\n",
    "    'legend.fontsize': 12, # was 10\n",
    "    'xtick.labelsize': 12,\n",
    "    'ytick.labelsize': 12,\n",
    "}\n",
    "matplotlib.rcParams.update(params)"
   ]
  },
  {
   "cell_type": "markdown",
   "metadata": {},
   "source": [
    "## Instantiation of vectors and operator"
   ]
  },
  {
   "cell_type": "markdown",
   "metadata": {},
   "source": [
    "For testing the library we will be using a discretized version of the following operator:\n",
    "\\begin{align}\n",
    "y = \\frac{d^2f(x)}{dx^2},\n",
    "\\end{align}\n",
    "in which we simply compute the second-order derivative of a function $f(x)$. "
   ]
  },
  {
   "cell_type": "code",
   "execution_count": null,
   "metadata": {},
   "outputs": [],
   "source": [
    "N=200 #Number of points of the function f(x)\n",
    "dx=1.0 #Sampling of the function\n",
    "D2 = np.matrix(np.zeros((N,N),dtype=np.float64)) #Matrix containing the discretization of the derivative operator\n",
    "#The stencil used is simply: (f(ix-1)-2f(ix)+f(ix+1))/(dx*dx)\n",
    "np.fill_diagonal(D2, -2/(dx*dx))\n",
    "np.fill_diagonal(D2[1:], 1/(dx*dx))\n",
    "np.fill_diagonal(D2[:,1:], 1/(dx*dx))\n",
    "f = Vec.vectorIC(np.zeros((N,1),dtype=np.float64)) #Initializing numpy-based vector for f(x)\n",
    "y = Vec.vectorIC(np.zeros((N,1),dtype=np.float64)) #Initializing numpy-based vector for y\n",
    "D2Op = Op.MatrixOp(D2,f,y)"
   ]
  },
  {
   "cell_type": "markdown",
   "metadata": {},
   "source": [
    "Before we set any inversion problem, we study some of the properties of the constructed operator Deriv2Op."
   ]
  },
  {
   "cell_type": "code",
   "execution_count": null,
   "metadata": {},
   "outputs": [],
   "source": [
    "#Verifying operator adjointness through dot-product test\n",
    "D2Op.dotTest(verbose=True)\n",
    "#Computing maximum and minimum eigenvalues of the operator using the power iteration method and \n",
    "#compare them against the ones computed using numpy\n",
    "egsOp=D2Op.powerMethod(verbose=False,eval_min=True,tol=1e-300)\n",
    "egsNp,_=np.linalg.eig(D2)\n",
    "egsNp = egsNp[egsNp.argsort()[::-1]] #Sorting the eigenvalues\n",
    "print(\"\\nMaximum eigenvalue: %s (Power method), %s (NUMPY)\"%(egsOp[0],egsNp[-1]))\n",
    "print(\"Minimum eigenvalue: %s (Power method), %s (NUMPY)\"%(egsOp[1],egsNp[0]))"
   ]
  },
  {
   "cell_type": "markdown",
   "metadata": {},
   "source": [
    "We can see that the matrix is negative definite. The small mismatch in the estimated eigenvalues is due to the dependence of the power method on the initial random eigenvector."
   ]
  },
  {
   "cell_type": "markdown",
   "metadata": {},
   "source": [
    "## Inversion tests"
   ]
  },
  {
   "cell_type": "markdown",
   "metadata": {},
   "source": [
    "We will now focus our attention on inverting a function knowning its second-order derivative. In this case we will assume that $y$ is constant and equal to $1$. Therefore, we expect to obtain a parabola with positive curvature. Given the chosen boundary conditions we know that the matrix is invertible since all eigenvalues have the same sign and are different then zero.\n",
    "We will solve the following objective functions using linear conjugate-gradient methods:\n",
    "\\begin{equation*}\n",
    "\\phi_1(\\mathbf{f}) = \\frac{1}{2}\\|D_2\\mathbf{f}-\\mathbf{y}\\|_2^2\n",
    "\\end{equation*}\n",
    "and\n",
    "\\begin{equation*}\n",
    "\\phi_2(\\mathbf{f}) = \\frac{1}{2}\\mathbf{f}^T D_2 \\mathbf{f} - \\mathbf{f}^{T} \\mathbf{y},\n",
    "\\end{equation*}\n",
    "where $D_2$ represents the discretized second-order derivative operator, while $\\mathbf{f}$ and $\\mathbf{y}$ are the discretized representations of $f$ and $y$, respectively."
   ]
  },
  {
   "cell_type": "code",
   "execution_count": null,
   "metadata": {},
   "outputs": [],
   "source": [
    "y.set(1.0) # y = 1\n",
    "#Note that f = 0\n",
    "Phi1 = Prblm.ProblemL2Linear(f,y,D2Op)\n",
    "Phi2 = Prblm.ProblemLinearSymmetric(f,y,D2Op)"
   ]
  },
  {
   "cell_type": "markdown",
   "metadata": {},
   "source": [
    "### Instantiation of solver objects"
   ]
  },
  {
   "cell_type": "markdown",
   "metadata": {},
   "source": [
    "First, we create two different solver object for solving the two inversion problem stated above."
   ]
  },
  {
   "cell_type": "code",
   "execution_count": null,
   "metadata": {},
   "outputs": [],
   "source": [
    "#Create stopping criteria and related object\n",
    "niter = 2000\n",
    "Stop  = Stopper(niter=niter)\n",
    "#Create LCG solver\n",
    "LCGsolver = LCG(Stop)\n",
    "LCGsolver.setDefaults(save_obj=True) #Saving objective function within the solver\n",
    "#Create LCG solver for symmetric systems\n",
    "SLCG = SymLCGsolver(Stop)\n",
    "SLCG.setDefaults(save_obj=True)"
   ]
  },
  {
   "cell_type": "markdown",
   "metadata": {},
   "source": [
    "Secondly, we run the solvers to minimize the objective functions previously defined."
   ]
  },
  {
   "cell_type": "code",
   "execution_count": null,
   "metadata": {},
   "outputs": [],
   "source": [
    "LCGsolver.run(Phi1,verbose=True)"
   ]
  },
  {
   "cell_type": "code",
   "execution_count": null,
   "metadata": {},
   "outputs": [],
   "source": [
    "SLCG.run(Phi2,verbose=True)"
   ]
  },
  {
   "cell_type": "markdown",
   "metadata": {},
   "source": [
    "Finally, we can look at the results."
   ]
  },
  {
   "cell_type": "code",
   "execution_count": null,
   "metadata": {},
   "outputs": [],
   "source": [
    "%matplotlib inline\n",
    "plt.plot(np.log10(LCGsolver.obj/LCGsolver.obj[0]))\n",
    "plt.title(\"LCG convergence\")\n",
    "plt.xlabel(\"Iteration #\",fontsize=14)\n",
    "plt.ylabel(\"$log_{10}$($\\phi_i/\\phi_0$)\",fontsize=14)\n",
    "ax = plt.gca() \n",
    "ax.autoscale(enable=True, axis='x', tight=True)"
   ]
  },
  {
   "cell_type": "code",
   "execution_count": null,
   "metadata": {},
   "outputs": [],
   "source": [
    "%matplotlib inline\n",
    "plt.plot(SLCG.obj)\n",
    "plt.title(\"Symmetric LCG convergence\")\n",
    "plt.xlabel(\"Iteration #\",fontsize=14)\n",
    "plt.ylabel(\"$\\phi_i$)\",fontsize=14)\n",
    "ax = plt.gca() \n",
    "ax.autoscale(enable=True, axis='x', tight=True)"
   ]
  },
  {
   "cell_type": "markdown",
   "metadata": {},
   "source": [
    "Also, let's compare the two inverted functions with the analytical solution.\n",
    "To find the solution for the continuous case we need three conditions:\n",
    "\\begin{equation}\n",
    "\\frac{d^2f(x)}{dx^2}=1,\\\\\n",
    "f(x=0)=0,\\\\\n",
    "f(x=x_f)=0.\n",
    "\\end{equation}\n",
    "$x = 0$ and $x = x_f$ are not sampled and lay outside of the interval $\\mathbf{x}$."
   ]
  },
  {
   "cell_type": "code",
   "execution_count": null,
   "metadata": {},
   "outputs": [],
   "source": [
    "X = np.linspace(dx,N*dx,N)\n",
    "alpha = 0.5\n",
    "beta  = -(X[-1]+dx)*0.5\n",
    "gamma = 0.0\n",
    "f_an  = alpha * X * X + beta * X + gamma"
   ]
  },
  {
   "cell_type": "code",
   "execution_count": null,
   "metadata": {},
   "outputs": [],
   "source": [
    "_ = plt.plot(X,Phi1.model.getNdArray(),linewidth=3,label=\"$f(x)$ from $\\phi_1$\")\n",
    "_ = plt.plot(X,Phi2.model.getNdArray(),linewidth=2,dashes=[6, 2],label=\"$f(x)$ from $\\phi_2$\")\n",
    "_ = plt.plot(X,f_an,'k',linewidth=2,dashes=[2, 2],label=\"Analytical solution\")\n",
    "ax = plt.gca() \n",
    "ax.autoscale(enable=True, axis='x', tight=True)\n",
    "ax.legend()\n",
    "plt.xlabel(\"x\",fontsize=14)\n",
    "plt.ylabel(\"$f(x)$\",fontsize=14)\n",
    "_ = plt.title(\"Inverted functions\")"
   ]
  },
  {
   "cell_type": "markdown",
   "metadata": {},
   "source": [
    "Now, let's try to solve both inversions using the inverse of $D_2$ as a preconditioner"
   ]
  },
  {
   "cell_type": "code",
   "execution_count": null,
   "metadata": {},
   "outputs": [],
   "source": [
    "PrecOp = Op.MatrixOp(np.linalg.inv(D2),f,y) # P = [D_2]^-1\n",
    "Phi1Prec = Prblm.ProblemL2Linear(f,y,D2Op,prec=Op.ChainOperator(PrecOp,PrecOp)) #In this line we chain [D_2]^-1 twice\n",
    "Phi2Prec = Prblm.ProblemLinearSymmetric(f,y,D2Op,prec=PrecOp)"
   ]
  },
  {
   "cell_type": "code",
   "execution_count": null,
   "metadata": {},
   "outputs": [],
   "source": [
    "LCGsolver.setDefaults() # Re-setting default solver values\n",
    "SLCG.setDefaults() # Re-setting default solver values"
   ]
  },
  {
   "cell_type": "code",
   "execution_count": null,
   "metadata": {},
   "outputs": [],
   "source": [
    "LCGsolver.run(Phi1Prec,verbose=True)"
   ]
  },
  {
   "cell_type": "code",
   "execution_count": null,
   "metadata": {},
   "outputs": [],
   "source": [
    "SLCG.run(Phi2Prec,verbose=True)"
   ]
  },
  {
   "cell_type": "markdown",
   "metadata": {},
   "source": [
    "As expected, we converge to the global minimum in effectively one iteration."
   ]
  }
 ],
 "metadata": {
  "kernelspec": {
   "display_name": "Python 3",
   "language": "python",
   "name": "python3"
  },
  "language_info": {
   "codemirror_mode": {
    "name": "ipython",
    "version": 3
   },
   "file_extension": ".py",
   "mimetype": "text/x-python",
   "name": "python",
   "nbconvert_exporter": "python",
   "pygments_lexer": "ipython3",
   "version": "3.6.5"
  }
 },
 "nbformat": 4,
 "nbformat_minor": 2
}
